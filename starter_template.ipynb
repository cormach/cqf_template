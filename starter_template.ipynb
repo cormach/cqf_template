{
  "nbformat": 4,
  "nbformat_minor": 0,
  "metadata": {
    "colab": {
      "name": "starter_template.ipynb",
      "provenance": [],
      "authorship_tag": "ABX9TyN2DtH0T16zyyGvMcQ8e4Xs",
      "include_colab_link": true
    },
    "kernelspec": {
      "name": "python3",
      "display_name": "Python 3"
    },
    "language_info": {
      "name": "python"
    }
  },
  "cells": [
    {
      "cell_type": "markdown",
      "metadata": {
        "id": "view-in-github",
        "colab_type": "text"
      },
      "source": [
        "<a href=\"https://colab.research.google.com/github/cormach/cqf_template/blob/main/starter_template.ipynb\" target=\"_parent\"><img src=\"https://colab.research.google.com/assets/colab-badge.svg\" alt=\"Open In Colab\"/></a>"
      ]
    },
    {
      "cell_type": "code",
      "execution_count": null,
      "metadata": {
        "id": "h6hez6zBS1wW"
      },
      "outputs": [],
      "source": [
        "!git clone https://github.com/cormach/cqf-template.git"
      ]
    },
    {
      "cell_type": "code",
      "source": [
        "import sys\n",
        "!{sys.executable} -m pip install -r cqf-template/requirements.txt"
      ],
      "metadata": {
        "id": "oPoqgcNtTKYX"
      },
      "execution_count": null,
      "outputs": []
    },
    {
      "cell_type": "code",
      "source": [
        "from cqf_template.helper import plot_var"
      ],
      "metadata": {
        "id": "La3m-W2bTS0I"
      },
      "execution_count": null,
      "outputs": []
    },
    {
      "cell_type": "code",
      "source": [
        ""
      ],
      "metadata": {
        "id": "P5ozeE3gUA5B"
      },
      "execution_count": null,
      "outputs": []
    }
  ]
}